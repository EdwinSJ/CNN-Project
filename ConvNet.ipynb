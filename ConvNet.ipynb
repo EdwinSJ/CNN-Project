{
 "cells": [
  {
   "cell_type": "code",
   "execution_count": 2,
   "metadata": {},
   "outputs": [
    {
     "name": "stdout",
     "output_type": "stream",
     "text": [
      "Epoch 1/10\n",
      "  1/546 [..............................] - ETA: 0s - loss: 0.7025 - accuracy: 0.2188WARNING:tensorflow:From C:\\ProgramData\\Anaconda3\\lib\\site-packages\\tensorflow\\python\\ops\\summary_ops_v2.py:1277: stop (from tensorflow.python.eager.profiler) is deprecated and will be removed after 2020-07-01.\n",
      "Instructions for updating:\n",
      "use `tf.profiler.experimental.stop` instead.\n",
      "  2/546 [..............................] - ETA: 3:24 - loss: 0.6942 - accuracy: 0.3750WARNING:tensorflow:Callbacks method `on_train_batch_end` is slow compared to the batch time (batch time: 0.1798s vs `on_train_batch_end` time: 0.5606s). Check your callbacks.\n",
      "546/546 [==============================] - 116s 213ms/step - loss: 0.6586 - accuracy: 0.5945 - val_loss: 0.6090 - val_accuracy: 0.6782\n",
      "Epoch 2/10\n",
      "546/546 [==============================] - 97s 177ms/step - loss: 0.5579 - accuracy: 0.7149 - val_loss: 0.5623 - val_accuracy: 0.7083\n",
      "Epoch 3/10\n",
      "546/546 [==============================] - 104s 191ms/step - loss: 0.5042 - accuracy: 0.7547 - val_loss: 0.5217 - val_accuracy: 0.7390\n",
      "Epoch 4/10\n",
      "546/546 [==============================] - 130s 238ms/step - loss: 0.4681 - accuracy: 0.7752 - val_loss: 0.4902 - val_accuracy: 0.7627\n",
      "Epoch 5/10\n",
      "546/546 [==============================] - 113s 206ms/step - loss: 0.4408 - accuracy: 0.7949 - val_loss: 0.4859 - val_accuracy: 0.7708\n",
      "Epoch 6/10\n",
      "546/546 [==============================] - 138s 253ms/step - loss: 0.4198 - accuracy: 0.8054 - val_loss: 0.4806 - val_accuracy: 0.7763\n",
      "Epoch 7/10\n",
      "546/546 [==============================] - 125s 229ms/step - loss: 0.3970 - accuracy: 0.8186 - val_loss: 0.4509 - val_accuracy: 0.7887\n",
      "Epoch 8/10\n",
      "546/546 [==============================] - 132s 242ms/step - loss: 0.3702 - accuracy: 0.8338 - val_loss: 0.4495 - val_accuracy: 0.7917\n",
      "Epoch 9/10\n",
      "546/546 [==============================] - 123s 226ms/step - loss: 0.3491 - accuracy: 0.8441 - val_loss: 0.4416 - val_accuracy: 0.8014\n",
      "Epoch 10/10\n",
      "546/546 [==============================] - 148s 271ms/step - loss: 0.3254 - accuracy: 0.8571 - val_loss: 0.4427 - val_accuracy: 0.7978\n"
     ]
    },
    {
     "data": {
      "text/plain": [
       "<tensorflow.python.keras.callbacks.History at 0x18707ecbc10>"
      ]
     },
     "execution_count": 2,
     "metadata": {},
     "output_type": "execute_result"
    }
   ],
   "source": [
    "import tensorflow as tf\n",
    "from tensorflow.keras.models import Sequential\n",
    "from tensorflow.keras.layers import Dense,Dropout,Activation,Flatten,Conv2D,MaxPooling2D\n",
    "from tensorflow.keras.callbacks import TensorBoard\n",
    "import pickle\n",
    "import time\n",
    "\n",
    "dense_layers = [0]\n",
    "conv_layers = [3]\n",
    "layer_sizes = [64]\n",
    "\n",
    "\n",
    "\n",
    "X = pickle.load(open(\"X.pickle\",\"rb\"))\n",
    "y = pickle.load(open(\"y.pickle\",\"rb\"))\n",
    "\n",
    "X = X/255\n",
    "\n",
    "for dense_layer in dense_layers:\n",
    "    for conv_layer in conv_layers:\n",
    "        for layer_size in layer_sizes:\n",
    "            NAME = \"{}-Conv-{}-nodes-{}-dense-{}\".format(conv_layer,layer_size,dense_layer,int(time.time()))\n",
    "            tensorboard = TensorBoard(log_dir='C:\\\\Windows\\\\System32\\\\logs2\\\\{}'.format(NAME))\n",
    "            model = Sequential()\n",
    "            model.add(Conv2D(layer_size, (3,3), input_shape = X.shape[1:]))\n",
    "            model.add(Activation(\"relu\"))\n",
    "            model.add(MaxPooling2D(pool_size = (2,2)))\n",
    "\n",
    "            for i in range(conv_layer - 1):\n",
    "                model.add(Conv2D(layer_size, (3,3)))\n",
    "                model.add(Activation(\"relu\"))\n",
    "                model.add(MaxPooling2D(pool_size = (2,2)))\n",
    "\n",
    "            model.add(Flatten())\n",
    "            \n",
    "            for i in range(dense_layer):\n",
    "                model.add(Dense(layer_size))\n",
    "                model.add(Activation(\"relu\"))\n",
    "\n",
    "            model.add(Dense(1))\n",
    "            model.add(Activation(\"sigmoid\"))\n",
    "\n",
    "\n",
    "model.compile(loss=\"binary_crossentropy\", optimizer = \"adam\", metrics = ['accuracy'])\n",
    "\n",
    "model.fit(X,y, batch_size = 32, epochs = 10, validation_split = 0.3, callbacks = [tensorboard])\n"
   ]
  },
  {
   "cell_type": "code",
   "execution_count": 10,
   "metadata": {},
   "outputs": [
    {
     "name": "stdout",
     "output_type": "stream",
     "text": [
      "Dog\n"
     ]
    }
   ],
   "source": [
    "import cv2\n",
    "CATEGORIES = ['Dog','Cat']\n",
    "\n",
    "def prepare(filepath):\n",
    "    IMG_SIZE = 50\n",
    "    img_arr = cv2.imread(filepath, cv2.IMREAD_GRAYSCALE)\n",
    "    new_arr = cv2.resize(img_arr, (IMG_SIZE,IMG_SIZE))\n",
    "    return new_arr.reshape(-1,IMG_SIZE,IMG_SIZE,1)\n",
    "\n",
    "prediction = model.predict([prepare('C:\\\\Users\\\\Shibu2\\\\Desktop\\\\Dog.jpg')])\n",
    "print(CATEGORIES[int(prediction[0][0])])"
   ]
  },
  {
   "cell_type": "code",
   "execution_count": 11,
   "metadata": {},
   "outputs": [
    {
     "name": "stdout",
     "output_type": "stream",
     "text": [
      "Cat\n"
     ]
    }
   ],
   "source": [
    "prediction = model.predict([prepare('C:\\\\Users\\\\Shibu2\\\\Desktop\\\\Cat.jpg')])\n",
    "print(CATEGORIES[int(prediction[0][0])])"
   ]
  },
  {
   "cell_type": "code",
   "execution_count": null,
   "metadata": {},
   "outputs": [],
   "source": []
  }
 ],
 "metadata": {
  "kernelspec": {
   "display_name": "Python 3",
   "language": "python",
   "name": "python3"
  },
  "language_info": {
   "codemirror_mode": {
    "name": "ipython",
    "version": 3
   },
   "file_extension": ".py",
   "mimetype": "text/x-python",
   "name": "python",
   "nbconvert_exporter": "python",
   "pygments_lexer": "ipython3",
   "version": "3.8.3"
  }
 },
 "nbformat": 4,
 "nbformat_minor": 4
}
