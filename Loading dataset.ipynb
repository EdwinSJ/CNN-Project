{
 "cells": [
  {
   "cell_type": "code",
   "execution_count": 1,
   "metadata": {},
   "outputs": [],
   "source": [
    "import numpy as np\n",
    "import matplotlib.pyplot as plt\n",
    "import os\n",
    "import cv2"
   ]
  },
  {
   "cell_type": "code",
   "execution_count": 2,
   "metadata": {},
   "outputs": [],
   "source": [
    "DATADIR = \"C:\\\\Users\\\\Shibu2\\\\Downloads\\\\Dataset\\\\PetImages\"\n",
    "CATEGORY = [\"Dog\",\"Cat\"]\n",
    "IMG_SIZE = 50\n",
    "training_data = []\n",
    "\n",
    "#new_array = cv2.resize(img_array, (IMG_SIZE,IMG_SIZE))\n",
    "def create_training_data():    \n",
    "    for categories in CATEGORY:\n",
    "        path = os.path.join(DATADIR,categories)   #to access C:\\\\Users\\\\Shibu2\\\\Downloads\\\\Dataset\\\\PetImages\\\\Dog or Cat\n",
    "        class_num = CATEGORY.index(categories)\n",
    "        for img in os.listdir(path): # to access each image in the directory\n",
    "            try:\n",
    "                img_array = cv2.imread(os.path.join(path,img),cv2.IMREAD_GRAYSCALE) #convt to greyscale cuz it's not a differentiating factor\n",
    "                new_array = cv2.resize(img_array, (IMG_SIZE,IMG_SIZE))\n",
    "                training_data.append([new_array, class_num]) #1st row will be img array 2nd will be the labels\n",
    "            except Exception as e:\n",
    "                pass\n",
    "\n",
    "create_training_data()"
   ]
  },
  {
   "cell_type": "code",
   "execution_count": 3,
   "metadata": {},
   "outputs": [
    {
     "name": "stdout",
     "output_type": "stream",
     "text": [
      "24946\n"
     ]
    }
   ],
   "source": [
    "print(len(training_data))"
   ]
  },
  {
   "cell_type": "code",
   "execution_count": 4,
   "metadata": {},
   "outputs": [],
   "source": [
    "import random\n",
    "random.shuffle(training_data)"
   ]
  },
  {
   "cell_type": "code",
   "execution_count": 5,
   "metadata": {},
   "outputs": [
    {
     "name": "stdout",
     "output_type": "stream",
     "text": [
      "[[ 45  48  49 ...  56  50  54]\n",
      " [ 55  51  55 ...  56  52  55]\n",
      " [ 51  55  53 ...  52  54  59]\n",
      " ...\n",
      " [129 141 134 ... 153 152 151]\n",
      " [135 136 134 ... 156 151 153]\n",
      " [123 140 130 ... 154 156 155]]\n",
      "[[204  94 197 ... 160 155 159]\n",
      " [204 101 190 ... 161 152 159]\n",
      " [203  97 187 ... 147 148 156]\n",
      " ...\n",
      " [146 152 151 ... 143 144 142]\n",
      " [151 153 151 ... 145 140 143]\n",
      " [153 159 154 ... 155 150 148]]\n",
      "[[ 26  26  28 ... 165 161 155]\n",
      " [ 28  28  20 ... 169 164 163]\n",
      " [ 32  36  34 ... 172 168 163]\n",
      " ...\n",
      " [ 12  12  11 ... 135 171 121]\n",
      " [ 10  11  13 ... 131 165 120]\n",
      " [ 11  11  12 ... 128 154 122]]\n",
      "[[ 72  76  82 ...  99  95  96]\n",
      " [ 72  82  88 ...  98  97  96]\n",
      " [ 69  81  86 ... 104  99  99]\n",
      " ...\n",
      " [123 125 129 ... 142 138 136]\n",
      " [122 125 123 ... 134 137 132]\n",
      " [117 111 120 ... 132 136 134]]\n",
      "[[46 48 49 ... 66 67 67]\n",
      " [50 51 51 ... 67 67 70]\n",
      " [52 52 52 ... 68 68 70]\n",
      " ...\n",
      " [68 69 82 ... 77 84 81]\n",
      " [76 84 91 ... 73 90 84]\n",
      " [79 75 89 ... 77 77 66]]\n",
      "[[ 24  58  61 ...  50  60  23]\n",
      " [ 23  59  64 ...  50  63  24]\n",
      " [ 26  57  65 ...  53  66  26]\n",
      " ...\n",
      " [123 115  98 ... 227 194 187]\n",
      " [189 184 165 ... 197 234 228]\n",
      " [254 223 187 ... 228 212 234]]\n",
      "[[151 128 166 ... 170 150 147]\n",
      " [121 103  94 ... 189 162 162]\n",
      " [147 157 246 ... 126 170 169]\n",
      " ...\n",
      " [195 175 133 ...  94  69  73]\n",
      " [190 159 167 ...  86  74  67]\n",
      " [163 153 133 ...  86  89  73]]\n",
      "[[183 189 141 ... 116 171 198]\n",
      " [185 189 136 ... 122 187 200]\n",
      " [187 186 139 ... 137 196 201]\n",
      " ...\n",
      " [  5   4  11 ... 208  63  75]\n",
      " [  4   5   6 ... 140  23  63]\n",
      " [  7   5   5 ...  86  13  67]]\n",
      "[[101  95  92 ...  47  45  46]\n",
      " [101  98  97 ...  40  40  41]\n",
      " [ 99  97  95 ...  44  40  44]\n",
      " ...\n",
      " [208 208 207 ...  29  29  28]\n",
      " [208 210 209 ...  36  30  28]\n",
      " [206 207 210 ...  37  35  32]]\n",
      "[[121 123 127 ... 154 149 163]\n",
      " [106 111 115 ... 151 144 150]\n",
      " [100  99  99 ... 149 145 114]\n",
      " ...\n",
      " [ 41  40  41 ... 116 126 112]\n",
      " [ 43  41  43 ... 106 119 100]\n",
      " [ 42  44  44 ...  97  96  93]]\n"
     ]
    }
   ],
   "source": [
    "for sample in training_data[:10]:\n",
    "    print(sample[0])"
   ]
  },
  {
   "cell_type": "code",
   "execution_count": 6,
   "metadata": {},
   "outputs": [],
   "source": [
    "X = []\n",
    "y = []"
   ]
  },
  {
   "cell_type": "code",
   "execution_count": 7,
   "metadata": {},
   "outputs": [],
   "source": [
    "for features, labels in training_data:\n",
    "    X.append(features)\n",
    "    y.append(labels)\n",
    "\n",
    "X = np.array(X).reshape(-1,IMG_SIZE,IMG_SIZE,1) \n",
    "y = np.array(y)"
   ]
  },
  {
   "cell_type": "code",
   "execution_count": 8,
   "metadata": {},
   "outputs": [],
   "source": [
    "import pickle\n",
    "\n",
    "pickle_out = open(\"X.pickle\", \"wb\")\n",
    "pickle.dump(X, pickle_out)\n",
    "pickle_out.close()\n",
    "\n",
    "pickle_out = open(\"y.pickle\", \"wb\")\n",
    "pickle.dump(y, pickle_out)\n",
    "pickle_out.close()"
   ]
  },
  {
   "cell_type": "code",
   "execution_count": null,
   "metadata": {},
   "outputs": [],
   "source": []
  }
 ],
 "metadata": {
  "kernelspec": {
   "display_name": "Python 3",
   "language": "python",
   "name": "python3"
  },
  "language_info": {
   "codemirror_mode": {
    "name": "ipython",
    "version": 3
   },
   "file_extension": ".py",
   "mimetype": "text/x-python",
   "name": "python",
   "nbconvert_exporter": "python",
   "pygments_lexer": "ipython3",
   "version": "3.8.3"
  }
 },
 "nbformat": 4,
 "nbformat_minor": 4
}
